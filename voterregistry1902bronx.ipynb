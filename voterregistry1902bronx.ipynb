{
 "cells": [
  {
   "cell_type": "markdown",
   "metadata": {},
   "source": [
    "# 1902 voter registry cleaner"
   ]
  },
  {
   "cell_type": "code",
   "execution_count": 1,
   "metadata": {},
   "outputs": [],
   "source": [
    "import pandas as pd\n",
    "import numpy as np\n",
    "import re\n",
    "import pdfminer\n",
    "from fuzzywuzzy import fuzz\n",
    "from fuzzywuzzy import process"
   ]
  },
  {
   "cell_type": "markdown",
   "metadata": {},
   "source": [
    "## 1902 bronx\n",
    "before running this code: OCR 1902 bronx.\n",
    "manually inspect the data and make a new copy, 1902bronxv2.xlsx, to fix any major errors in ED/AD names"
   ]
  },
  {
   "cell_type": "code",
   "execution_count": 2,
   "metadata": {},
   "outputs": [],
   "source": [
    "#xlsx file\n",
    "rawdata = pd.read_excel(\"1902bronxv2.xlsx\", header=None)"
   ]
  },
  {
   "cell_type": "code",
   "execution_count": 3,
   "metadata": {},
   "outputs": [],
   "source": [
    "unwanted_words = [\"The City Record\", \"THE CITY RECORD\", \"OFFICIAL JOURNAL\", \"SUPPLEMENT\", \"LIST OF REGISTERED VOTERES\", \"BOROUGH OF\"]\n",
    "col_names = [\"Year\", \"AD\", \"ED\", \"Street\", \"Number\", \"Name\"]\n",
    "voters = pd.DataFrame(columns=col_names)"
   ]
  },
  {
   "cell_type": "code",
   "execution_count": 4,
   "metadata": {},
   "outputs": [
    {
     "name": "stderr",
     "output_type": "stream",
     "text": [
      "/Library/Frameworks/Python.framework/Versions/3.7/lib/python3.7/site-packages/ipykernel_launcher.py:5: FutureWarning: set_value is deprecated and will be removed in a future release. Please use .at[] or .iat[] accessors instead\n",
      "  \"\"\"\n"
     ]
    }
   ],
   "source": [
    "#replaces unwanted words as blank\n",
    "for idx, line in rawdata.iloc[:, 0].items():\n",
    "    for word in unwanted_words:\n",
    "        if fuzz.partial_ratio(line.strip(), word) >= 70:\n",
    "            rawdata.set_value(idx, 0, \"     \")\n",
    "        else:\n",
    "            pass\n",
    "#removes all space\n",
    "td = []\n",
    "for idx, line in rawdata.iloc[:, 0].items():\n",
    "    if line.isspace():\n",
    "        td.append(idx)\n",
    "\n",
    "rawdata.drop(rawdata.index[td], inplace=True)\n",
    "rawdata.reset_index(drop=True, inplace=True)"
   ]
  },
  {
   "cell_type": "code",
   "execution_count": 5,
   "metadata": {},
   "outputs": [],
   "source": [
    "rawdata.reset_index(drop=True, inplace=True)"
   ]
  },
  {
   "cell_type": "code",
   "execution_count": 6,
   "metadata": {},
   "outputs": [
    {
     "name": "stderr",
     "output_type": "stream",
     "text": [
      "/Library/Frameworks/Python.framework/Versions/3.7/lib/python3.7/site-packages/ipykernel_launcher.py:5: FutureWarning: set_value is deprecated and will be removed in a future release. Please use .at[] or .iat[] accessors instead\n",
      "  \"\"\"\n",
      "/Library/Frameworks/Python.framework/Versions/3.7/lib/python3.7/site-packages/ipykernel_launcher.py:6: FutureWarning: set_value is deprecated and will be removed in a future release. Please use .at[] or .iat[] accessors instead\n",
      "  \n",
      "/Library/Frameworks/Python.framework/Versions/3.7/lib/python3.7/site-packages/ipykernel_launcher.py:10: FutureWarning: set_value is deprecated and will be removed in a future release. Please use .at[] or .iat[] accessors instead\n",
      "  # Remove the CWD from sys.path while we load stuff.\n"
     ]
    }
   ],
   "source": [
    "for idx, line in rawdata.iloc[:, 0].items():\n",
    "    #combine hyphenated lines\n",
    "    if ((line.strip()[-1:] == \"-\" or line.strip()[-1:] == \"--\")) and rawdata.iloc[idx+1, 0][0].islower():\n",
    "        newline = rawdata.iloc[idx, 0] + rawdata.iloc[idx+1, 0]\n",
    "        rawdata.set_value(idx, 0, newline)\n",
    "        rawdata.set_value(idx+1, 0, \"    \")\n",
    "#remove hyphens from names\n",
    "for idx, line in rawdata.iloc[:, 0].items():\n",
    "    if \"-\" in line:\n",
    "        rawdata.set_value(idx, 0, re.sub(\"-\", \"\", line))\n",
    "\n",
    "rawdata.reset_index(drop=True, inplace=True)"
   ]
  },
  {
   "cell_type": "code",
   "execution_count": 7,
   "metadata": {},
   "outputs": [],
   "source": [
    "#removes all space\n",
    "tod = []\n",
    "for idx, line in rawdata.iloc[:, 0].items():\n",
    "    if line.isspace():\n",
    "        tod.append(idx)\n",
    "rawdata.drop(rawdata.index[tod], inplace=True)\n",
    "rawdata.reset_index(drop=True, inplace=True)"
   ]
  },
  {
   "cell_type": "code",
   "execution_count": 8,
   "metadata": {
    "scrolled": false
   },
   "outputs": [],
   "source": [
    "#initialize values\n",
    "ad = \"n/a\"\n",
    "ed = \"n/a\"\n",
    "streetname = \"n/a\"\n",
    "year = 1902\n",
    "number = 0\n",
    "name = \"n/a\"\n",
    "lastname = \"n/a\"\n",
    "firstname = \"n/a\"\n",
    "idx = 0\n",
    "minitial = \"\"\n",
    "\n",
    "\n",
    "for line in rawdata.iloc[:, 0]:\n",
    "    if line.isspace()==False:\n",
    "        #all caps---either an ad, ed, maybe street/name\n",
    "        capscheck = \"\".join(x for x in line if x.isupper())\n",
    "        if len(capscheck) >=4: \n",
    "            if fuzz.partial_ratio(line, \"ASSEMBLY\") >= 70:\n",
    "                ad = line\n",
    "            elif fuzz.partial_ratio(line, \"ELECTION DIST.\") >= 75 or fuzz.partial_ratio(line, \"ELEC. DIST.\") >= 70 or fuzz.partial_ratio(line, \"ELECTION DISTRICT\") >= 75:\n",
    "                ed = line\n",
    "            else: \n",
    "                #maybe a street or name \n",
    "                lowercheck = \"\".join(x for x in line if x.islower())\n",
    "                if len(lowercheck) <= 3: \n",
    "                    streetname = line\n",
    "                else:\n",
    "                    entry = line\n",
    "                    number = \"\".join(x for x in entry if x.isdigit())\n",
    "                    name = ''.join(i for i in entry if not i.isdigit())\n",
    "        else:\n",
    "            #for sure a name\n",
    "            entry = line\n",
    "            number = \"\".join(x for x in entry if x.isdigit())\n",
    "            name = ''.join(i for i in entry if not i.isdigit())\n",
    "        #new row to dataframe\n",
    "        new_row = [year, ad, ed, streetname, number, name]\n",
    "        voters.loc[len(voters), :] = new_row\n",
    "    else:\n",
    "        pass"
   ]
  },
  {
   "cell_type": "code",
   "execution_count": 9,
   "metadata": {
    "scrolled": true
   },
   "outputs": [
    {
     "name": "stderr",
     "output_type": "stream",
     "text": [
      "/Library/Frameworks/Python.framework/Versions/3.7/lib/python3.7/site-packages/ipykernel_launcher.py:10: FutureWarning: set_value is deprecated and will be removed in a future release. Please use .at[] or .iat[] accessors instead\n",
      "  # Remove the CWD from sys.path while we load stuff.\n",
      "/Library/Frameworks/Python.framework/Versions/3.7/lib/python3.7/site-packages/ipykernel_launcher.py:22: FutureWarning: set_value is deprecated and will be removed in a future release. Please use .at[] or .iat[] accessors instead\n",
      "/Library/Frameworks/Python.framework/Versions/3.7/lib/python3.7/site-packages/ipykernel_launcher.py:44: FutureWarning: set_value is deprecated and will be removed in a future release. Please use .at[] or .iat[] accessors instead\n"
     ]
    }
   ],
   "source": [
    "#fill in empty number rows\n",
    "for idx, num in voters.iloc[:, 4].items():\n",
    "    if num == \"\":\n",
    "        point = idx\n",
    "        while point >= 0:\n",
    "            #finds the nearest filled cell that is before it\n",
    "            point -= 1\n",
    "            val = voters.iloc[point, 4]\n",
    "            if val is not \"\" and voters.iloc[idx, 3] == voters.iloc[point, 3]:\n",
    "                voters.set_value(idx, \"Number\", val)\n",
    "                break\n",
    "#another one to fill in missing numbers (but going forwards)\n",
    "for idx, num in voters.iloc[:, 4].items():\n",
    "    if num == \"\":\n",
    "        try:\n",
    "            pt = idx\n",
    "            while pt >= 0:\n",
    "                #finds the nearest filled cell that is after it\n",
    "                pt += 1\n",
    "                val = voters.iloc[pt, 4]\n",
    "                if val is not \"\" and voters.iloc[idx, 3] == voters.iloc[pt, 3]:\n",
    "                    voters.set_value(idx, \"Number\", val)\n",
    "                    break\n",
    "        except:\n",
    "            pass\n",
    "#clean up any misread numbers\n",
    "# for idx, number in voters.iloc[:, 4].items():\n",
    "#         #number smaller than the one before it and same street\n",
    "#         if float(number) < float(voters.iloc[idx-1, 4]) and (voters.iloc[idx-1, 3]) == (voters.iloc[idx, 3]):\n",
    "#             #similarity between surrounding numbers\n",
    "#             if fuzz.ratio(str(number), str(voters.iloc[idx-1, 4])) > fuzz.ratio(str(number), str(voters.iloc[idx+1, 4])):\n",
    "#                 voters.set_value(idx, \"Number\", voters.iloc[idx-1, 4])\n",
    "#             elif fuzz.ratio(str(number), str(voters.iloc[idx-1, 4])) < fuzz.ratio(str(number), str(voters.iloc[idx+1, 4])):\n",
    "#                 voters.set_value(idx, \"Number\", voters.iloc[idx+1, 4])\n",
    "#clean streets\n",
    "for idx, street in voters.iloc[:, 3].items():\n",
    "    if \".\" in street:\n",
    "        #get rid of the periods\n",
    "        removep = re.sub(\"[.]\", \"\", street)\n",
    "        #remove special characters\n",
    "        removesc = re.sub('[^a-zA-Z.,\\d\\s]', '', removep)\n",
    "        #remove leading space\n",
    "        newstreet = removesc.strip()\n",
    "        voters.set_value(idx, \"Street\", newstreet)"
   ]
  },
  {
   "cell_type": "code",
   "execution_count": 10,
   "metadata": {
    "scrolled": true
   },
   "outputs": [
    {
     "name": "stderr",
     "output_type": "stream",
     "text": [
      "/Library/Frameworks/Python.framework/Versions/3.7/lib/python3.7/site-packages/ipykernel_launcher.py:10: FutureWarning: set_value is deprecated and will be removed in a future release. Please use .at[] or .iat[] accessors instead\n",
      "  # Remove the CWD from sys.path while we load stuff.\n",
      "/Library/Frameworks/Python.framework/Versions/3.7/lib/python3.7/site-packages/ipykernel_launcher.py:16: FutureWarning: set_value is deprecated and will be removed in a future release. Please use .at[] or .iat[] accessors instead\n",
      "  app.launch_new_instance()\n"
     ]
    }
   ],
   "source": [
    "#clean names\n",
    "for idx, name in voters.iloc[:, 5].items():\n",
    "    if \".\" in name:\n",
    "        #get rid of the periods\n",
    "        removep = re.sub(\"[.]\", \"\", name)\n",
    "        #remove special characters\n",
    "        removesc = re.sub('[^a-zA-Z.,\\d\\s]', '', removep)\n",
    "        #remove leading space\n",
    "        newname = removesc.strip()\n",
    "        voters.set_value(idx, \"Name\", newname)\n",
    "#remove end commas\n",
    "for idx, name in voters.iloc[:, 5].items():\n",
    "    if name[-1:] == \",\":\n",
    "        removec = name[:-1].strip()\n",
    "        #remove leading space\n",
    "        voters.set_value(idx, \"Name\", removec)"
   ]
  },
  {
   "cell_type": "code",
   "execution_count": 11,
   "metadata": {},
   "outputs": [
    {
     "name": "stderr",
     "output_type": "stream",
     "text": [
      "/Library/Frameworks/Python.framework/Versions/3.7/lib/python3.7/site-packages/ipykernel_launcher.py:6: FutureWarning: set_value is deprecated and will be removed in a future release. Please use .at[] or .iat[] accessors instead\n",
      "  \n"
     ]
    }
   ],
   "source": [
    "#lines with lone letters\n",
    "delete = []\n",
    "for idx, entry in voters.iloc[:, 5].items():\n",
    "    if len(entry)==1:\n",
    "        #most likely an initial\n",
    "        voters.set_value(idx-1, \"Name\", voters.iloc[idx-1, 5] + entry)\n",
    "        delete.append(idx)\n",
    "voters.drop(voters.index[delete], inplace=True)\n",
    "voters.reset_index(drop=True, inplace=True)"
   ]
  },
  {
   "cell_type": "code",
   "execution_count": 12,
   "metadata": {},
   "outputs": [],
   "source": [
    "#lone suffixes\n",
    "drop = []\n",
    "for idx, entry in voters.iloc[:, 5].items():\n",
    "    if entry.strip() == \"Rev\" or entry == \"Gen\":\n",
    "        #most likely an initial\n",
    "        voters.set_value(idx-1, \"Name\", voters.iloc[idx-1, 5] + entry)\n",
    "        drop.append(idx)\n",
    "voters.drop(voters.index[drop], inplace=True)\n",
    "voters.reset_index(drop=True, inplace=True)"
   ]
  },
  {
   "cell_type": "code",
   "execution_count": 13,
   "metadata": {},
   "outputs": [
    {
     "name": "stderr",
     "output_type": "stream",
     "text": [
      "/Library/Frameworks/Python.framework/Versions/3.7/lib/python3.7/site-packages/ipykernel_launcher.py:6: FutureWarning: set_value is deprecated and will be removed in a future release. Please use .at[] or .iat[] accessors instead\n",
      "  \n"
     ]
    }
   ],
   "source": [
    "#isolate suffixes\n",
    "suffix = []\n",
    "for idx, name in voters.iloc[:, 5].items():\n",
    "    if name[-2:].strip() == \"Jr\" or name[-2:].strip() == \"Sr\" or name[-2:].strip() == \"jr\" or  name[-2:].strip() == \"sr\":\n",
    "        suffix.append(name[-2:].strip())\n",
    "        voters.set_value(idx, \"Name\", name[:-2])\n",
    "    elif name[-3:].strip() == \"Rev\" or name[-3:].strip== \"rev\":\n",
    "        suffix.append(name[-3:].strip())\n",
    "        voters.set_value(idx, \"Name\", name[:-3])\n",
    "    else:\n",
    "        suffix.append(\"\")\n",
    "voters[\"Suffix\"] = suffix"
   ]
  },
  {
   "cell_type": "code",
   "execution_count": 14,
   "metadata": {},
   "outputs": [
    {
     "name": "stderr",
     "output_type": "stream",
     "text": [
      "/Library/Frameworks/Python.framework/Versions/3.7/lib/python3.7/site-packages/ipykernel_launcher.py:11: FutureWarning: set_value is deprecated and will be removed in a future release. Please use .at[] or .iat[] accessors instead\n",
      "  # This is added back by InteractiveShellApp.init_path()\n",
      "/Library/Frameworks/Python.framework/Versions/3.7/lib/python3.7/site-packages/ipykernel_launcher.py:8: FutureWarning: set_value is deprecated and will be removed in a future release. Please use .at[] or .iat[] accessors instead\n",
      "  \n",
      "/Library/Frameworks/Python.framework/Versions/3.7/lib/python3.7/site-packages/ipykernel_launcher.py:16: FutureWarning: set_value is deprecated and will be removed in a future release. Please use .at[] or .iat[] accessors instead\n",
      "  app.launch_new_instance()\n"
     ]
    }
   ],
   "source": [
    "#middle initial\n",
    "minitial = []\n",
    "for idx, name in voters.iloc[:, 5].items():\n",
    "    mi = name[-1:]\n",
    "    if mi.isupper() and len(re.findall(r'\\w+', name)) == 3:\n",
    "        minitial.append(mi)\n",
    "        cleanname = name[:-1]\n",
    "        voters.set_value(idx, \"Name\", cleanname)\n",
    "    else:\n",
    "        minitial.append(\"\")\n",
    "        voters.set_value(idx, \"Name\", name)\n",
    "voters[\"Middle\"] = minitial\n",
    "#scrub commas at end\n",
    "for idx, name in voters.iloc[:, 5].items():\n",
    "    if name.strip()[-1:] == \",\":\n",
    "        voters.set_value(idx, \"Name\", name.strip()[:-1])"
   ]
  },
  {
   "cell_type": "code",
   "execution_count": 15,
   "metadata": {
    "scrolled": true
   },
   "outputs": [
    {
     "name": "stderr",
     "output_type": "stream",
     "text": [
      "/Library/Frameworks/Python.framework/Versions/3.7/lib/python3.7/site-packages/ipykernel_launcher.py:6: FutureWarning: set_value is deprecated and will be removed in a future release. Please use .at[] or .iat[] accessors instead\n",
      "  \n"
     ]
    }
   ],
   "source": [
    "#reindex\n",
    "voters.reset_index(drop=True, inplace=True)\n",
    "\n",
    "#scrub letters before first capital letter\n",
    "for idx, name in voters.iloc[:, 5].items():\n",
    "        voters.set_value(idx, \"Name\", re.sub(\"^.*?([A-Z])\", \"\\\\1\", name))"
   ]
  },
  {
   "cell_type": "code",
   "execution_count": 16,
   "metadata": {
    "scrolled": true
   },
   "outputs": [],
   "source": [
    "#last name first name\n",
    "lname = []\n",
    "fname = []\n",
    "for idx, name in voters.iloc[:, 5].items():\n",
    "    #comma (x, y)\n",
    "    if bool(re.match(r\"(?x) ^ [\\w ']+ , [\\w ']+ $ \", name)):\n",
    "        #everything before comma = last, everything after= first\n",
    "        lname.append(name.split(',')[0].strip())\n",
    "        fname.append(name.split(',')[1].strip())\n",
    "    #comma at end (x, y y,)\n",
    "    elif bool(re.match(r\"(?x) ^ [\\w ']+ , [\\w ']+ ,$ \", name)):\n",
    "        lname.append(name.split(',')[0].strip())\n",
    "        fname.append(name.split(',')[1].strip())\n",
    "    #period (x.y)\n",
    "    elif bool(re.match(r\"(?x) ^ [\\w ']+ \\. [\\w ']+ $ \", name)):\n",
    "        lname.append(name.split('.')[0].strip())\n",
    "        fname.append(name.split('.')[1].strip())\n",
    "    #space (x y)\n",
    "    elif bool(re.match(r\"([A-Za-z']+)+ ([A-Z][A-Za-z']+)\", name)):\n",
    "        grouped = re.match(r\"([A-Za-z']+)+ ([A-Z][A-Za-z']+)\", name).groups()\n",
    "        lname.append(grouped[0].strip())\n",
    "        fname.append(grouped[1].strip())\n",
    "    #nospace (SmithJohn)\n",
    "    elif bool(re.match(r\"([A-Za-z']+)([A-Z][A-Za-z']+)\", name)):\n",
    "        full = re.match(r\"([A-Za-z']+)([A-Z][A-Za-z']+)\", name).groups()\n",
    "        lname.append(full[0])\n",
    "        fname.append(full[1])\n",
    "    else:\n",
    "        lname.append(\"\")\n",
    "        fname.append(\"\")\n",
    "#add lname fname to voters\n",
    "voters[\"Last\"] = lname\n",
    "voters[\"First\"] = fname"
   ]
  },
  {
   "cell_type": "code",
   "execution_count": 17,
   "metadata": {},
   "outputs": [
    {
     "name": "stderr",
     "output_type": "stream",
     "text": [
      "/Library/Frameworks/Python.framework/Versions/3.7/lib/python3.7/site-packages/ipykernel_launcher.py:7: FutureWarning: set_value is deprecated and will be removed in a future release. Please use .at[] or .iat[] accessors instead\n",
      "  import sys\n",
      "/Library/Frameworks/Python.framework/Versions/3.7/lib/python3.7/site-packages/ipykernel_launcher.py:8: FutureWarning: set_value is deprecated and will be removed in a future release. Please use .at[] or .iat[] accessors instead\n",
      "  \n"
     ]
    }
   ],
   "source": [
    "#try to fix names again:\n",
    "for idx, name in voters.iloc[:, 5].items():\n",
    "    if voters.iloc[idx, 6] == \"\" and voters.iloc[idx, 7] == \"\":\n",
    "        new = name.split(\",\")\n",
    "        newp = name.split(\".\")\n",
    "        if len(new) == 2:\n",
    "            voters.set_value(idx, \"Last\", new[0].strip())\n",
    "            voters.set_value(idx, \"First\", new[1].strip())\n",
    "        if len(newp) == 2:\n",
    "            voters.set_value(idx, \"Last\", newp[0].strip())\n",
    "            voters.set_value(idx, \"First\", newp[1].strip())\n",
    "# lone letters and suffixes"
   ]
  },
  {
   "cell_type": "code",
   "execution_count": 18,
   "metadata": {},
   "outputs": [],
   "source": [
    "#drop rows with n/a name\n",
    "for idx, name in voters.iloc[:, 5].items():\n",
    "    if name == \"n/a\":\n",
    "        voters = voters.drop([idx])\n",
    "voters.reset_index(drop=True, inplace=True)"
   ]
  },
  {
   "cell_type": "code",
   "execution_count": 19,
   "metadata": {},
   "outputs": [],
   "source": [
    "#scrub repeats and empty fname lname\n",
    "todelete = []\n",
    "for idx, name in voters.iloc[:, 5].items():\n",
    "    try:\n",
    "        if name == voters.iloc[idx-1, 5]:\n",
    "            todelete.append(idx)\n",
    "    except:\n",
    "        pass\n",
    "voters.drop(voters.index[todelete], inplace=True)\n",
    "voters.reset_index(drop=True, inplace=True)\n",
    "td = []\n",
    "for idx, name in voters.loc[:, \"Last\"].items():\n",
    "    if name == \"\" and voters.loc[idx, \"First\"] == \"\":\n",
    "        td.append(idx)\n",
    "voters.drop(voters.index[td], inplace=True)"
   ]
  },
  {
   "cell_type": "code",
   "execution_count": 20,
   "metadata": {},
   "outputs": [],
   "source": [
    "voters.reset_index(drop=True, inplace=True)"
   ]
  },
  {
   "cell_type": "code",
   "execution_count": 21,
   "metadata": {},
   "outputs": [],
   "source": [
    "voters.to_excel(\"1902bronxcleaned.xlsx\")"
   ]
  },
  {
   "cell_type": "markdown",
   "metadata": {},
   "source": [
    "before running this code: manually inspect 1902bronxcleaned.xlsx, make a copy 1902bronxcleanedv2.xlsx making edits to major errors\n",
    "## run on v2"
   ]
  },
  {
   "cell_type": "code",
   "execution_count": 16,
   "metadata": {},
   "outputs": [],
   "source": [
    "voters = pd.read_excel(\"1902bronxcleanedv2.xlsx\")"
   ]
  },
  {
   "cell_type": "code",
   "execution_count": 17,
   "metadata": {},
   "outputs": [],
   "source": [
    "voters = voters.drop(voters.columns[[0]], axis=1)\n",
    "voters.reset_index(drop=True, inplace=True)"
   ]
  },
  {
   "cell_type": "code",
   "execution_count": 18,
   "metadata": {},
   "outputs": [],
   "source": [
    "#change all NaN's to \"\"\n",
    "voters = voters.fillna(\"\")"
   ]
  },
  {
   "cell_type": "code",
   "execution_count": 19,
   "metadata": {},
   "outputs": [],
   "source": [
    "#fixing ED/AD\n",
    "\n",
    "ad = 34\n",
    "ed = 19\n",
    "clean_ad = []\n",
    "for idx, assembly in voters.iloc[:, 1].items():\n",
    "    if idx == 0:\n",
    "        clean_ad.append(ad)\n",
    "    else:\n",
    "        if assembly.upper().strip() == voters.iloc[idx-1, 1].upper().strip():\n",
    "            clean_ad.append(ad)\n",
    "        elif assembly.upper().strip() != voters.iloc[idx-1, 1].upper().strip():\n",
    "            ad += 1\n",
    "            clean_ad.append(ad)\n",
    "clean_ed = []\n",
    "for idx, election in voters.iloc[:, 2].items():\n",
    "    if idx == 0:\n",
    "        clean_ed.append(ed)\n",
    "    else:\n",
    "        if voters.iloc[idx, 1].upper().strip() != voters.iloc[idx-1, 1].upper().strip():\n",
    "            #reset ed counter\n",
    "            ed = 0\n",
    "        if election.upper().strip() == voters.iloc[idx-1, 2].upper().strip():\n",
    "            clean_ed.append(ed)\n",
    "        elif election.upper().strip() != voters.iloc[idx-1, 2].upper().strip():\n",
    "            ed += 1\n",
    "            clean_ed.append(ed)\n",
    "#add to df\n",
    "voters[\"ADedit\"] = clean_ad\n",
    "voters[\"EDedit\"] = clean_ed"
   ]
  },
  {
   "cell_type": "code",
   "execution_count": 20,
   "metadata": {
    "scrolled": false
   },
   "outputs": [
    {
     "data": {
      "text/html": [
       "<div>\n",
       "<style scoped>\n",
       "    .dataframe tbody tr th:only-of-type {\n",
       "        vertical-align: middle;\n",
       "    }\n",
       "\n",
       "    .dataframe tbody tr th {\n",
       "        vertical-align: top;\n",
       "    }\n",
       "\n",
       "    .dataframe thead th {\n",
       "        text-align: right;\n",
       "    }\n",
       "</style>\n",
       "<table border=\"1\" class=\"dataframe\">\n",
       "  <thead>\n",
       "    <tr style=\"text-align: right;\">\n",
       "      <th></th>\n",
       "      <th>Year</th>\n",
       "      <th>AD</th>\n",
       "      <th>ED</th>\n",
       "      <th>Street</th>\n",
       "      <th>Number</th>\n",
       "      <th>Name</th>\n",
       "      <th>Suffix</th>\n",
       "      <th>Middle</th>\n",
       "      <th>Last</th>\n",
       "      <th>First</th>\n",
       "      <th>ADedit</th>\n",
       "      <th>EDedit</th>\n",
       "    </tr>\n",
       "  </thead>\n",
       "  <tbody>\n",
       "    <tr>\n",
       "      <th>0</th>\n",
       "      <td>1902</td>\n",
       "      <td></td>\n",
       "      <td>iqTH ELECTION DIST.</td>\n",
       "      <td>5TH AVE</td>\n",
       "      <td>2177</td>\n",
       "      <td>Fogarty, Edward</td>\n",
       "      <td></td>\n",
       "      <td>J</td>\n",
       "      <td>Fogarty</td>\n",
       "      <td>Edward</td>\n",
       "      <td>34</td>\n",
       "      <td>19</td>\n",
       "    </tr>\n",
       "    <tr>\n",
       "      <th>1</th>\n",
       "      <td>1902</td>\n",
       "      <td></td>\n",
       "      <td>iqTH ELECTION DIST.</td>\n",
       "      <td>5TH AVE</td>\n",
       "      <td>2177</td>\n",
       "      <td>Custer Malilon</td>\n",
       "      <td></td>\n",
       "      <td></td>\n",
       "      <td>Custer</td>\n",
       "      <td>Malilon</td>\n",
       "      <td>34</td>\n",
       "      <td>19</td>\n",
       "    </tr>\n",
       "    <tr>\n",
       "      <th>2</th>\n",
       "      <td>1902</td>\n",
       "      <td></td>\n",
       "      <td>iqTH ELECTION DIST.</td>\n",
       "      <td>5TH AVE</td>\n",
       "      <td>277</td>\n",
       "      <td>Kratzenberg, Frank</td>\n",
       "      <td></td>\n",
       "      <td></td>\n",
       "      <td>Kratzenberg</td>\n",
       "      <td>Frank</td>\n",
       "      <td>34</td>\n",
       "      <td>19</td>\n",
       "    </tr>\n",
       "    <tr>\n",
       "      <th>3</th>\n",
       "      <td>1902</td>\n",
       "      <td></td>\n",
       "      <td>iqTH ELECTION DIST.</td>\n",
       "      <td>5TH AVE</td>\n",
       "      <td>277</td>\n",
       "      <td>Hofmann, Christopher</td>\n",
       "      <td></td>\n",
       "      <td></td>\n",
       "      <td>Hofmann</td>\n",
       "      <td>Christopher</td>\n",
       "      <td>34</td>\n",
       "      <td>19</td>\n",
       "    </tr>\n",
       "    <tr>\n",
       "      <th>4</th>\n",
       "      <td>1902</td>\n",
       "      <td></td>\n",
       "      <td>iqTH ELECTION DIST.</td>\n",
       "      <td>5TH AVE</td>\n",
       "      <td>277</td>\n",
       "      <td>Neumann, Leopold</td>\n",
       "      <td></td>\n",
       "      <td></td>\n",
       "      <td>Neumann</td>\n",
       "      <td>Leopold</td>\n",
       "      <td>34</td>\n",
       "      <td>19</td>\n",
       "    </tr>\n",
       "    <tr>\n",
       "      <th>...</th>\n",
       "      <td>...</td>\n",
       "      <td>...</td>\n",
       "      <td>...</td>\n",
       "      <td>...</td>\n",
       "      <td>...</td>\n",
       "      <td>...</td>\n",
       "      <td>...</td>\n",
       "      <td>...</td>\n",
       "      <td>...</td>\n",
       "      <td>...</td>\n",
       "      <td>...</td>\n",
       "      <td>...</td>\n",
       "    </tr>\n",
       "    <tr>\n",
       "      <th>40714</th>\n",
       "      <td>1902</td>\n",
       "      <td>PART OF SECOND ASSEMBLY DISTRICT, WESTCHESTER ...</td>\n",
       "      <td>POND ST.</td>\n",
       "      <td>TERRACE PT</td>\n",
       "      <td>1</td>\n",
       "      <td>Rosenberger, Edward</td>\n",
       "      <td></td>\n",
       "      <td></td>\n",
       "      <td>Rosenberger</td>\n",
       "      <td>Edward</td>\n",
       "      <td>37</td>\n",
       "      <td>11</td>\n",
       "    </tr>\n",
       "    <tr>\n",
       "      <th>40715</th>\n",
       "      <td>1902</td>\n",
       "      <td>PART OF SECOND ASSEMBLY DISTRICT, WESTCHESTER ...</td>\n",
       "      <td>POND ST.</td>\n",
       "      <td>TERRACE PT</td>\n",
       "      <td>1</td>\n",
       "      <td>Carev, Henry</td>\n",
       "      <td></td>\n",
       "      <td>D</td>\n",
       "      <td>Carev</td>\n",
       "      <td>Henry</td>\n",
       "      <td>37</td>\n",
       "      <td>11</td>\n",
       "    </tr>\n",
       "    <tr>\n",
       "      <th>40716</th>\n",
       "      <td>1902</td>\n",
       "      <td>PART OF SECOND ASSEMBLY DISTRICT, WESTCHESTER ...</td>\n",
       "      <td>POND ST.</td>\n",
       "      <td>TERRACE PT</td>\n",
       "      <td>1</td>\n",
       "      <td>Ludlum, Wm</td>\n",
       "      <td></td>\n",
       "      <td></td>\n",
       "      <td>Ludlum</td>\n",
       "      <td>Wm</td>\n",
       "      <td>37</td>\n",
       "      <td>11</td>\n",
       "    </tr>\n",
       "    <tr>\n",
       "      <th>40717</th>\n",
       "      <td>1902</td>\n",
       "      <td>PART OF SECOND ASSEMBLY DISTRICT, WESTCHESTER ...</td>\n",
       "      <td>POND ST.</td>\n",
       "      <td>TERRACE PT</td>\n",
       "      <td>1</td>\n",
       "      <td>Dixon, Jos</td>\n",
       "      <td></td>\n",
       "      <td>C</td>\n",
       "      <td>Dixon</td>\n",
       "      <td>Jos</td>\n",
       "      <td>37</td>\n",
       "      <td>11</td>\n",
       "    </tr>\n",
       "    <tr>\n",
       "      <th>40718</th>\n",
       "      <td>1902</td>\n",
       "      <td>PART OF SECOND ASSEMBLY DISTRICT, WESTCHESTER ...</td>\n",
       "      <td>POND ST.</td>\n",
       "      <td>TERRACE PT</td>\n",
       "      <td>1</td>\n",
       "      <td>Byrne, Patrick</td>\n",
       "      <td></td>\n",
       "      <td></td>\n",
       "      <td>Byrne</td>\n",
       "      <td>Patrick</td>\n",
       "      <td>37</td>\n",
       "      <td>11</td>\n",
       "    </tr>\n",
       "  </tbody>\n",
       "</table>\n",
       "<p>40719 rows × 12 columns</p>\n",
       "</div>"
      ],
      "text/plain": [
       "       Year                                                 AD  \\\n",
       "0      1902                                                      \n",
       "1      1902                                                      \n",
       "2      1902                                                      \n",
       "3      1902                                                      \n",
       "4      1902                                                      \n",
       "...     ...                                                ...   \n",
       "40714  1902  PART OF SECOND ASSEMBLY DISTRICT, WESTCHESTER ...   \n",
       "40715  1902  PART OF SECOND ASSEMBLY DISTRICT, WESTCHESTER ...   \n",
       "40716  1902  PART OF SECOND ASSEMBLY DISTRICT, WESTCHESTER ...   \n",
       "40717  1902  PART OF SECOND ASSEMBLY DISTRICT, WESTCHESTER ...   \n",
       "40718  1902  PART OF SECOND ASSEMBLY DISTRICT, WESTCHESTER ...   \n",
       "\n",
       "                        ED      Street Number                  Name Suffix  \\\n",
       "0      iqTH ELECTION DIST.     5TH AVE   2177      Fogarty, Edward           \n",
       "1      iqTH ELECTION DIST.     5TH AVE   2177        Custer Malilon          \n",
       "2      iqTH ELECTION DIST.     5TH AVE    277    Kratzenberg, Frank          \n",
       "3      iqTH ELECTION DIST.     5TH AVE    277  Hofmann, Christopher          \n",
       "4      iqTH ELECTION DIST.     5TH AVE    277      Neumann, Leopold          \n",
       "...                    ...         ...    ...                   ...    ...   \n",
       "40714             POND ST.  TERRACE PT      1   Rosenberger, Edward          \n",
       "40715             POND ST.  TERRACE PT      1         Carev, Henry           \n",
       "40716             POND ST.  TERRACE PT      1            Ludlum, Wm          \n",
       "40717             POND ST.  TERRACE PT      1           Dixon, Jos           \n",
       "40718             POND ST.  TERRACE PT      1        Byrne, Patrick          \n",
       "\n",
       "      Middle         Last        First  ADedit  EDedit  \n",
       "0          J      Fogarty       Edward      34      19  \n",
       "1                  Custer      Malilon      34      19  \n",
       "2             Kratzenberg        Frank      34      19  \n",
       "3                 Hofmann  Christopher      34      19  \n",
       "4                 Neumann      Leopold      34      19  \n",
       "...      ...          ...          ...     ...     ...  \n",
       "40714         Rosenberger       Edward      37      11  \n",
       "40715      D        Carev        Henry      37      11  \n",
       "40716              Ludlum           Wm      37      11  \n",
       "40717      C        Dixon          Jos      37      11  \n",
       "40718               Byrne      Patrick      37      11  \n",
       "\n",
       "[40719 rows x 12 columns]"
      ]
     },
     "execution_count": 20,
     "metadata": {},
     "output_type": "execute_result"
    }
   ],
   "source": [
    "voters"
   ]
  },
  {
   "cell_type": "code",
   "execution_count": 21,
   "metadata": {},
   "outputs": [],
   "source": [
    "#rearrange columns \n",
    "finalvoters = voters[['Year', 'AD', 'ED', 'ADedit', \"EDedit\", \"Street\", \"Number\", \"Name\", \"Last\", \"First\", \"Middle\", \"Suffix\"]]"
   ]
  },
  {
   "cell_type": "code",
   "execution_count": 22,
   "metadata": {},
   "outputs": [],
   "source": [
    "#output name\n",
    "finalvoters.to_excel(\"processed1902bronx.xlsx\")"
   ]
  },
  {
   "cell_type": "markdown",
   "metadata": {},
   "source": [
    "## stats\n",
    "make a copy of processed1902bronx.xlsx (v2) and fix any AD/ED counter erros"
   ]
  },
  {
   "cell_type": "code",
   "execution_count": 15,
   "metadata": {},
   "outputs": [],
   "source": [
    "# load final1902manhattan in\n",
    "full_list = pd.read_excel(\"processed1902bronx.xlsx\")"
   ]
  },
  {
   "cell_type": "code",
   "execution_count": 16,
   "metadata": {},
   "outputs": [
    {
     "data": {
      "text/plain": [
       "ADedit\n",
       "1      4457\n",
       "2      6911\n",
       "3      7374\n",
       "4      6738\n",
       "5      7988\n",
       "6      8449\n",
       "7      7780\n",
       "8      5008\n",
       "9      8654\n",
       "10     7356\n",
       "11     7083\n",
       "12     5669\n",
       "13     6278\n",
       "14     7524\n",
       "15     7662\n",
       "16     7325\n",
       "17     7040\n",
       "18     8602\n",
       "19    11515\n",
       "20     8330\n",
       "21    17860\n",
       "22     8110\n",
       "23    17362\n",
       "24     7513\n",
       "25     7055\n",
       "26     6855\n",
       "27     6323\n",
       "28     7912\n",
       "29     9644\n",
       "30     9963\n",
       "31    18055\n",
       "32    10907\n",
       "33     8313\n",
       "34     7024\n",
       "dtype: int64"
      ]
     },
     "execution_count": 16,
     "metadata": {},
     "output_type": "execute_result"
    }
   ],
   "source": [
    "#stats\n",
    "full_list.groupby('ADedit').size()"
   ]
  },
  {
   "cell_type": "code",
   "execution_count": 19,
   "metadata": {},
   "outputs": [
    {
     "data": {
      "text/plain": [
       "EDedit\n",
       "0         2\n",
       "1     12290\n",
       "2     12023\n",
       "3     12008\n",
       "4     11224\n",
       "5     12370\n",
       "6     12619\n",
       "7     11756\n",
       "8     11711\n",
       "9     11389\n",
       "10    11644\n",
       "11    12120\n",
       "12    10849\n",
       "13    11913\n",
       "14    12712\n",
       "15    12145\n",
       "16    11749\n",
       "17    10729\n",
       "18    12508\n",
       "19    10292\n",
       "20     9992\n",
       "21     7949\n",
       "22     7566\n",
       "23     6408\n",
       "24     4019\n",
       "25     3619\n",
       "26     3030\n",
       "27     2145\n",
       "28     2179\n",
       "29     1736\n",
       "30     1853\n",
       "31     1550\n",
       "32     1719\n",
       "33     1424\n",
       "34      994\n",
       "35     1297\n",
       "36     1506\n",
       "37     1029\n",
       "38     1040\n",
       "39     1245\n",
       "40     1074\n",
       "41      755\n",
       "42      757\n",
       "43      853\n",
       "44      511\n",
       "45      336\n",
       "dtype: int64"
      ]
     },
     "execution_count": 19,
     "metadata": {},
     "output_type": "execute_result"
    }
   ],
   "source": [
    "full_list.groupby(\"EDedit\").size()"
   ]
  },
  {
   "cell_type": "code",
   "execution_count": null,
   "metadata": {},
   "outputs": [],
   "source": [
    "full_list.groupby(\"Street\").size()"
   ]
  }
 ],
 "metadata": {
  "kernelspec": {
   "display_name": "Python 3",
   "language": "python",
   "name": "python3"
  },
  "language_info": {
   "codemirror_mode": {
    "name": "ipython",
    "version": 3
   },
   "file_extension": ".py",
   "mimetype": "text/x-python",
   "name": "python",
   "nbconvert_exporter": "python",
   "pygments_lexer": "ipython3",
   "version": "3.7.1"
  }
 },
 "nbformat": 4,
 "nbformat_minor": 4
}
