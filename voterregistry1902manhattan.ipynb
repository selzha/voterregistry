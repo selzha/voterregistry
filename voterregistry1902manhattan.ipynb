{
 "cells": [
  {
   "cell_type": "markdown",
   "metadata": {},
   "source": [
    "# 1902 voter registry cleaner"
   ]
  },
  {
   "cell_type": "code",
   "execution_count": null,
   "metadata": {},
   "outputs": [],
   "source": [
    "import pandas as pd\n",
    "import numpy as np\n",
    "import re\n",
    "import pdfminer\n",
    "from fuzzywuzzy import fuzz\n",
    "from fuzzywuzzy import process"
   ]
  },
  {
   "cell_type": "markdown",
   "metadata": {},
   "source": [
    "before running this:\n",
    "1. OCR the PDF files of 1902\n",
    "2. use 1902xlsxmerger.r to merge all OCR output together\n",
    "3. use 1902splitter.r to split the combined file into thirds--make sure that each third starts with a new assembly district\n",
    "\n",
    "1902.1.xlsx - first third \n",
    "\n",
    "1902.2.xlsx - second third\n",
    "\n",
    "1902.3.xlsx - last third\n",
    "\n",
    "after running this code, 1902.x.final.xlsx will be the name of the output generated. \n",
    "## 1902 part 1"
   ]
  },
  {
   "cell_type": "code",
   "execution_count": null,
   "metadata": {},
   "outputs": [],
   "source": [
    "#xlsx file\n",
    "rawdata = pd.read_excel(\"1902.1.xlsx\", header=None)"
   ]
  },
  {
   "cell_type": "code",
   "execution_count": null,
   "metadata": {},
   "outputs": [],
   "source": [
    "unwanted_words = [\"The City Record\", \"THE CITY RECORD\", \"OFFICIAL JOURNAL\", \"SUPPLEMENT\", \"LIST OF REGISTERED VOTERES\", \"BOROUGH OF\"]\n",
    "col_names = [\"Year\", \"AD\", \"ED\", \"Street\", \"Number\", \"Name\"]\n",
    "voters = pd.DataFrame(columns=col_names)"
   ]
  },
  {
   "cell_type": "code",
   "execution_count": null,
   "metadata": {},
   "outputs": [],
   "source": [
    "#replaces unwanted words as blank\n",
    "for idx, line in rawdata.iloc[:, 0].items():\n",
    "    for word in unwanted_words:\n",
    "        if fuzz.partial_ratio(line.strip(), word) >= 70:\n",
    "            rawdata.set_value(idx, 0, \"     \")\n",
    "        else:\n",
    "            pass\n",
    "#removes all space\n",
    "td = []\n",
    "for idx, line in rawdata.iloc[:, 0].items():\n",
    "    if line.isspace():\n",
    "        td.append(idx)\n",
    "\n",
    "rawdata.drop(rawdata.index[td], inplace=True)\n",
    "rawdata.reset_index(drop=True, inplace=True)"
   ]
  },
  {
   "cell_type": "code",
   "execution_count": null,
   "metadata": {},
   "outputs": [],
   "source": [
    "rawdata.reset_index(drop=True, inplace=True)"
   ]
  },
  {
   "cell_type": "code",
   "execution_count": null,
   "metadata": {},
   "outputs": [],
   "source": [
    "for idx, line in rawdata.iloc[:, 0].items():\n",
    "    #combine hyphenated lines\n",
    "    if ((line.strip()[-1:] == \"-\" or line.strip()[-1:] == \"--\")) and rawdata.iloc[idx+1, 0][0].islower():\n",
    "        newline = rawdata.iloc[idx, 0] + rawdata.iloc[idx+1, 0]\n",
    "        rawdata.set_value(idx, 0, newline)\n",
    "        rawdata.set_value(idx+1, 0, \"    \")\n",
    "#remove hyphens from names\n",
    "for idx, line in rawdata.iloc[:, 0].items():\n",
    "    if \"-\" in line:\n",
    "        rawdata.set_value(idx, 0, re.sub(\"-\", \"\", line))\n",
    "\n",
    "rawdata.reset_index(drop=True, inplace=True)"
   ]
  },
  {
   "cell_type": "code",
   "execution_count": null,
   "metadata": {},
   "outputs": [],
   "source": [
    "#removes all space\n",
    "tod = []\n",
    "for idx, line in rawdata.iloc[:, 0].items():\n",
    "    if line.isspace():\n",
    "        tod.append(idx)\n",
    "rawdata.drop(rawdata.index[tod], inplace=True)\n",
    "rawdata.reset_index(drop=True, inplace=True)"
   ]
  },
  {
   "cell_type": "code",
   "execution_count": null,
   "metadata": {
    "scrolled": false
   },
   "outputs": [],
   "source": [
    "#initialize values\n",
    "ad = \"n/a\"\n",
    "ed = \"n/a\"\n",
    "streetname = \"n/a\"\n",
    "year = 1902\n",
    "number = 0\n",
    "name = \"n/a\"\n",
    "lastname = \"n/a\"\n",
    "firstname = \"n/a\"\n",
    "idx = 0\n",
    "minitial = \"\"\n",
    "\n",
    "\n",
    "for line in rawdata.iloc[:, 0]:\n",
    "    if line.isspace()==False:\n",
    "        #all caps---either an ad, ed, maybe street/name\n",
    "        capscheck = \"\".join(x for x in line if x.isupper())\n",
    "        if len(capscheck) >=4: \n",
    "            if fuzz.partial_ratio(line, \"ASSEMBLY\") >= 70:\n",
    "                ad = line\n",
    "            elif fuzz.ratio(line, \"ELECTION DIST.\") >= 75 or fuzz.ratio(line, \"ELEC. DIST.\") >= 70 or fuzz.ratio(line, \"ELECTION DISTRICT\") >= 70:\n",
    "                ed = line\n",
    "            else: \n",
    "                #maybe a street or name \n",
    "                lowercheck = \"\".join(x for x in line if x.islower())\n",
    "                if len(lowercheck) <= 3: \n",
    "                    streetname = line\n",
    "                else:\n",
    "                    entry = line\n",
    "                    number = \"\".join(x for x in entry if x.isdigit())\n",
    "                    name = ''.join(i for i in entry if not i.isdigit())\n",
    "        else:\n",
    "            #for sure a name\n",
    "            entry = line\n",
    "            number = \"\".join(x for x in entry if x.isdigit())\n",
    "            name = ''.join(i for i in entry if not i.isdigit())\n",
    "        #new row to dataframe\n",
    "        new_row = [year, ad, ed, streetname, number, name]\n",
    "        voters.loc[len(voters), :] = new_row\n",
    "    else:\n",
    "        pass"
   ]
  },
  {
   "cell_type": "code",
   "execution_count": null,
   "metadata": {
    "scrolled": true
   },
   "outputs": [],
   "source": [
    "#fill in empty number rows\n",
    "for idx, num in voters.iloc[:, 4].items():\n",
    "    if num == \"\":\n",
    "        point = idx\n",
    "        while point >= 0:\n",
    "            #finds the nearest filled cell that is before it\n",
    "            point -= 1\n",
    "            val = voters.iloc[point, 4]\n",
    "            if val is not \"\" and voters.iloc[idx, 3] == voters.iloc[point, 3]:\n",
    "                voters.set_value(idx, \"Number\", val)\n",
    "                break\n",
    "#another one to fill in missing numbers (but going forwards)\n",
    "for idx, num in voters.iloc[:, 4].items():\n",
    "    if num == \"\":\n",
    "        try:\n",
    "            pt = idx\n",
    "            while pt >= 0:\n",
    "                #finds the nearest filled cell that is after it\n",
    "                pt += 1\n",
    "                val = voters.iloc[pt, 4]\n",
    "                if val is not \"\" and voters.iloc[idx, 3] == voters.iloc[pt, 3]:\n",
    "                    voters.set_value(idx, \"Number\", val)\n",
    "                    break\n",
    "        except:\n",
    "            pass\n",
    "#clean up any misread numbers\n",
    "# for idx, number in voters.iloc[:, 4].items():\n",
    "#         #number smaller than the one before it and same street\n",
    "#         if float(number) < float(voters.iloc[idx-1, 4]) and (voters.iloc[idx-1, 3]) == (voters.iloc[idx, 3]):\n",
    "#             #similarity between surrounding numbers\n",
    "#             if fuzz.ratio(str(number), str(voters.iloc[idx-1, 4])) > fuzz.ratio(str(number), str(voters.iloc[idx+1, 4])):\n",
    "#                 voters.set_value(idx, \"Number\", voters.iloc[idx-1, 4])\n",
    "#             elif fuzz.ratio(str(number), str(voters.iloc[idx-1, 4])) < fuzz.ratio(str(number), str(voters.iloc[idx+1, 4])):\n",
    "#                 voters.set_value(idx, \"Number\", voters.iloc[idx+1, 4])\n",
    "#clean streets\n",
    "for idx, street in voters.iloc[:, 3].items():\n",
    "    if \".\" in street:\n",
    "        #get rid of the periods\n",
    "        removep = re.sub(\"[.]\", \"\", street)\n",
    "        #remove special characters\n",
    "        removesc = re.sub('[^a-zA-Z.,\\d\\s]', '', removep)\n",
    "        #remove leading space\n",
    "        newstreet = removesc.strip()\n",
    "        voters.set_value(idx, \"Street\", newstreet)"
   ]
  },
  {
   "cell_type": "code",
   "execution_count": null,
   "metadata": {
    "scrolled": true
   },
   "outputs": [],
   "source": [
    "#clean names\n",
    "for idx, name in voters.iloc[:, 5].items():\n",
    "    if \".\" in name:\n",
    "        #get rid of the periods\n",
    "        removep = re.sub(\"[.]\", \"\", name)\n",
    "        #remove special characters\n",
    "        removesc = re.sub('[^a-zA-Z.,\\d\\s]', '', removep)\n",
    "        #remove leading space\n",
    "        newname = removesc.strip()\n",
    "        voters.set_value(idx, \"Name\", newname)\n",
    "#remove end commas\n",
    "for idx, name in voters.iloc[:, 5].items():\n",
    "    if name[-1:] == \",\":\n",
    "        removec = name[:-1].strip()\n",
    "        #remove leading space\n",
    "        voters.set_value(idx, \"Name\", removec)"
   ]
  },
  {
   "cell_type": "code",
   "execution_count": null,
   "metadata": {},
   "outputs": [],
   "source": [
    "#lines with lone letters\n",
    "delete = []\n",
    "for idx, entry in voters.iloc[:, 5].items():\n",
    "    if len(entry)==1:\n",
    "        #most likely an initial\n",
    "        voters.set_value(idx-1, \"Name\", voters.iloc[idx-1, 5] + entry)\n",
    "        delete.append(idx)\n",
    "voters.drop(voters.index[delete], inplace=True)\n",
    "voters.reset_index(drop=True, inplace=True)"
   ]
  },
  {
   "cell_type": "code",
   "execution_count": null,
   "metadata": {},
   "outputs": [],
   "source": [
    "#lone suffixes\n",
    "drop = []\n",
    "for idx, entry in voters.iloc[:, 5].items():\n",
    "    if entry.strip() == \"Rev\" or entry == \"Gen\":\n",
    "        #most likely an initial\n",
    "        voters.set_value(idx-1, \"Name\", voters.iloc[idx-1, 5] + entry)\n",
    "        drop.append(idx)\n",
    "voters.drop(voters.index[drop], inplace=True)\n",
    "voters.reset_index(drop=True, inplace=True)"
   ]
  },
  {
   "cell_type": "code",
   "execution_count": null,
   "metadata": {},
   "outputs": [],
   "source": [
    "#isolate suffixes\n",
    "suffix = []\n",
    "for idx, name in voters.iloc[:, 5].items():\n",
    "    if name[-2:].strip() == \"Jr\" or name[-2:].strip() == \"Sr\" or name[-2:].strip() == \"jr\" or  name[-2:].strip() == \"sr\":\n",
    "        suffix.append(name[-2:].strip())\n",
    "        voters.set_value(idx, \"Name\", name[:-2])\n",
    "    elif name[-3:].strip() == \"Rev\" or name[-3:].strip== \"rev\":\n",
    "        suffix.append(name[-3:].strip())\n",
    "        voters.set_value(idx, \"Name\", name[:-3])\n",
    "    else:\n",
    "        suffix.append(\"\")\n",
    "voters[\"Suffix\"] = suffix"
   ]
  },
  {
   "cell_type": "code",
   "execution_count": null,
   "metadata": {},
   "outputs": [],
   "source": [
    "#middle initial\n",
    "minitial = []\n",
    "for idx, name in voters.iloc[:, 5].items():\n",
    "    mi = name[-1:]\n",
    "    if mi.isupper() and len(re.findall(r'\\w+', name)) == 3:\n",
    "        minitial.append(mi)\n",
    "        cleanname = name[:-1]\n",
    "        voters.set_value(idx, \"Name\", cleanname)\n",
    "    else:\n",
    "        minitial.append(\"\")\n",
    "        voters.set_value(idx, \"Name\", name)\n",
    "voters[\"Middle\"] = minitial\n",
    "#scrub commas at end\n",
    "for idx, name in voters.iloc[:, 5].items():\n",
    "    if name.strip()[-1:] == \",\":\n",
    "        voters.set_value(idx, \"Name\", name.strip()[:-1])"
   ]
  },
  {
   "cell_type": "code",
   "execution_count": null,
   "metadata": {
    "scrolled": true
   },
   "outputs": [],
   "source": [
    "#reindex\n",
    "voters.reset_index(drop=True, inplace=True)\n",
    "\n",
    "#scrub letters before first capital letter\n",
    "for idx, name in voters.iloc[:, 5].items():\n",
    "        voters.set_value(idx, \"Name\", re.sub(\"^.*?([A-Z])\", \"\\\\1\", name))"
   ]
  },
  {
   "cell_type": "code",
   "execution_count": null,
   "metadata": {
    "scrolled": true
   },
   "outputs": [],
   "source": [
    "#last name first name\n",
    "lname = []\n",
    "fname = []\n",
    "for idx, name in voters.iloc[:, 5].items():\n",
    "    #comma (x, y)\n",
    "    if bool(re.match(r\"(?x) ^ [\\w ']+ , [\\w ']+ $ \", name)):\n",
    "        #everything before comma = last, everything after= first\n",
    "        lname.append(name.split(',')[0].strip())\n",
    "        fname.append(name.split(',')[1].strip())\n",
    "    #comma at end (x, y y,)\n",
    "    elif bool(re.match(r\"(?x) ^ [\\w ']+ , [\\w ']+ ,$ \", name)):\n",
    "        lname.append(name.split(',')[0].strip())\n",
    "        fname.append(name.split(',')[1].strip())\n",
    "    #period (x.y)\n",
    "    elif bool(re.match(r\"(?x) ^ [\\w ']+ \\. [\\w ']+ $ \", name)):\n",
    "        lname.append(name.split('.')[0].strip())\n",
    "        fname.append(name.split('.')[1].strip())\n",
    "    #space (x y)\n",
    "    elif bool(re.match(r\"([A-Za-z']+)+ ([A-Z][A-Za-z']+)\", name)):\n",
    "        grouped = re.match(r\"([A-Za-z']+)+ ([A-Z][A-Za-z']+)\", name).groups()\n",
    "        lname.append(grouped[0].strip())\n",
    "        fname.append(grouped[1].strip())\n",
    "    #nospace (SmithJohn)\n",
    "    elif bool(re.match(r\"([A-Za-z']+)([A-Z][A-Za-z']+)\", name)):\n",
    "        full = re.match(r\"([A-Za-z']+)([A-Z][A-Za-z']+)\", name).groups()\n",
    "        lname.append(full[0])\n",
    "        fname.append(full[1])\n",
    "    else:\n",
    "        lname.append(\"\")\n",
    "        fname.append(\"\")\n",
    "#add lname fname to voters\n",
    "voters[\"Last\"] = lname\n",
    "voters[\"First\"] = fname"
   ]
  },
  {
   "cell_type": "code",
   "execution_count": null,
   "metadata": {},
   "outputs": [],
   "source": [
    "#try to fix names again:\n",
    "for idx, name in voters.iloc[:, 5].items():\n",
    "    if voters.iloc[idx, 6] == \"\" and voters.iloc[idx, 7] == \"\":\n",
    "        new = name.split(\",\")\n",
    "        newp = name.split(\".\")\n",
    "        if len(new) == 2:\n",
    "            voters.set_value(idx, \"Last\", new[0].strip())\n",
    "            voters.set_value(idx, \"First\", new[1].strip())\n",
    "        if len(newp) == 2:\n",
    "            voters.set_value(idx, \"Last\", newp[0].strip())\n",
    "            voters.set_value(idx, \"First\", newp[1].strip())\n",
    "# lone letters and suffixes"
   ]
  },
  {
   "cell_type": "code",
   "execution_count": null,
   "metadata": {},
   "outputs": [],
   "source": [
    "#drop rows with n/a name\n",
    "for idx, name in voters.iloc[:, 5].items():\n",
    "    if name == \"n/a\":\n",
    "        voters = voters.drop([idx])\n",
    "voters.reset_index(drop=True, inplace=True)"
   ]
  },
  {
   "cell_type": "code",
   "execution_count": null,
   "metadata": {},
   "outputs": [],
   "source": [
    "#scrub repeats and empty fname lname\n",
    "todelete = []\n",
    "for idx, name in voters.iloc[:, 5].items():\n",
    "    try:\n",
    "        if name == voters.iloc[idx-1, 5]:\n",
    "            todelete.append(idx)\n",
    "    except:\n",
    "        pass\n",
    "voters.drop(voters.index[todelete], inplace=True)\n",
    "voters.reset_index(drop=True, inplace=True)\n",
    "td = []\n",
    "for idx, name in voters.loc[:, \"Last\"].items():\n",
    "    if name == \"\" and voters.loc[idx, \"First\"] == \"\":\n",
    "        td.append(idx)\n",
    "voters.drop(voters.index[td], inplace=True)"
   ]
  },
  {
   "cell_type": "code",
   "execution_count": null,
   "metadata": {},
   "outputs": [],
   "source": [
    "voters.reset_index(drop=True, inplace=True)"
   ]
  },
  {
   "cell_type": "code",
   "execution_count": null,
   "metadata": {},
   "outputs": [],
   "source": [
    "voters.to_excel(\"1902.1.final.xlsx\")"
   ]
  },
  {
   "cell_type": "markdown",
   "metadata": {},
   "source": [
    "## 1902 part 2"
   ]
  },
  {
   "cell_type": "code",
   "execution_count": null,
   "metadata": {},
   "outputs": [],
   "source": [
    "#xlsx file\n",
    "rawdata = pd.read_excel(\"1902.2.xlsx\", header=None)"
   ]
  },
  {
   "cell_type": "code",
   "execution_count": null,
   "metadata": {},
   "outputs": [],
   "source": [
    "unwanted_words = [\"The City Record\", \"THE CITY RECORD\", \"OFFICIAL JOURNAL\", \"SUPPLEMENT\", \"LIST OF REGISTERED VOTERES\", \"BOROUGH OF\"]\n",
    "col_names = [\"Year\", \"AD\", \"ED\", \"Street\", \"Number\", \"Name\"]\n",
    "voters = pd.DataFrame(columns=col_names)"
   ]
  },
  {
   "cell_type": "code",
   "execution_count": null,
   "metadata": {},
   "outputs": [],
   "source": [
    "#replaces unwanted words as blank\n",
    "for idx, line in rawdata.iloc[:, 0].items():\n",
    "    for word in unwanted_words:\n",
    "        if fuzz.partial_ratio(line.strip(), word) >= 70:\n",
    "            rawdata.set_value(idx, 0, \"     \")\n",
    "        else:\n",
    "            pass\n",
    "#removes all space\n",
    "td = []\n",
    "for idx, line in rawdata.iloc[:, 0].items():\n",
    "    if line.isspace():\n",
    "        td.append(idx)\n",
    "\n",
    "rawdata.drop(rawdata.index[td], inplace=True)\n",
    "rawdata.reset_index(drop=True, inplace=True)"
   ]
  },
  {
   "cell_type": "code",
   "execution_count": null,
   "metadata": {},
   "outputs": [],
   "source": [
    "rawdata.reset_index(drop=True, inplace=True)"
   ]
  },
  {
   "cell_type": "code",
   "execution_count": null,
   "metadata": {},
   "outputs": [],
   "source": [
    "for idx, line in rawdata.iloc[:, 0].items():\n",
    "    #combine hyphenated lines\n",
    "    if ((line.strip()[-1:] == \"-\" or line.strip()[-1:] == \"--\")) and rawdata.iloc[idx+1, 0][0].islower():\n",
    "        newline = rawdata.iloc[idx, 0] + rawdata.iloc[idx+1, 0]\n",
    "        rawdata.set_value(idx, 0, newline)\n",
    "        rawdata.set_value(idx+1, 0, \"    \")\n",
    "#remove hyphens from names\n",
    "for idx, line in rawdata.iloc[:, 0].items():\n",
    "    if \"-\" in line:\n",
    "        rawdata.set_value(idx, 0, re.sub(\"-\", \"\", line))\n",
    "\n",
    "rawdata.reset_index(drop=True, inplace=True)"
   ]
  },
  {
   "cell_type": "code",
   "execution_count": null,
   "metadata": {},
   "outputs": [],
   "source": [
    "#removes all space\n",
    "tod = []\n",
    "for idx, line in rawdata.iloc[:, 0].items():\n",
    "    if line.isspace():\n",
    "        tod.append(idx)\n",
    "rawdata.drop(rawdata.index[tod], inplace=True)\n",
    "rawdata.reset_index(drop=True, inplace=True)"
   ]
  },
  {
   "cell_type": "code",
   "execution_count": null,
   "metadata": {
    "scrolled": false
   },
   "outputs": [],
   "source": [
    "#initialize values\n",
    "ad = \"n/a\"\n",
    "ed = \"n/a\"\n",
    "streetname = \"n/a\"\n",
    "year = 1902\n",
    "number = 0\n",
    "name = \"n/a\"\n",
    "lastname = \"n/a\"\n",
    "firstname = \"n/a\"\n",
    "idx = 0\n",
    "minitial = \"\"\n",
    "\n",
    "\n",
    "for line in rawdata.iloc[:, 0]:\n",
    "    if line.isspace()==False:\n",
    "        #all caps---either an ad, ed, maybe street/name\n",
    "        capscheck = \"\".join(x for x in line if x.isupper())\n",
    "        if len(capscheck) >=4: \n",
    "            if fuzz.partial_ratio(line, \"ASSEMBLY\") >= 70:\n",
    "                ad = line\n",
    "            elif fuzz.partial_ratio(line, \"ELECTION DIST.\") >= 75 or fuzz.partial_ratio(line, \"ELEC. DIST.\") >= 70 or fuzz.partial_ratio(line, \"ELECTION DISTRICT\") >= 75:\n",
    "                ed = line\n",
    "            else: \n",
    "                #maybe a street or name \n",
    "                lowercheck = \"\".join(x for x in line if x.islower())\n",
    "                if len(lowercheck) <= 3: \n",
    "                    streetname = line\n",
    "                else:\n",
    "                    entry = line\n",
    "                    number = \"\".join(x for x in entry if x.isdigit())\n",
    "                    name = ''.join(i for i in entry if not i.isdigit())\n",
    "        else:\n",
    "            #for sure a name\n",
    "            entry = line\n",
    "            number = \"\".join(x for x in entry if x.isdigit())\n",
    "            name = ''.join(i for i in entry if not i.isdigit())\n",
    "        #new row to dataframe\n",
    "        new_row = [year, ad, ed, streetname, number, name]\n",
    "        voters.loc[len(voters), :] = new_row\n",
    "    else:\n",
    "        pass"
   ]
  },
  {
   "cell_type": "code",
   "execution_count": null,
   "metadata": {
    "scrolled": true
   },
   "outputs": [],
   "source": [
    "#fill in empty number rows\n",
    "for idx, num in voters.iloc[:, 4].items():\n",
    "    if num == \"\":\n",
    "        point = idx\n",
    "        while point >= 0:\n",
    "            #finds the nearest filled cell that is before it\n",
    "            point -= 1\n",
    "            val = voters.iloc[point, 4]\n",
    "            if val is not \"\" and voters.iloc[idx, 3] == voters.iloc[point, 3]:\n",
    "                voters.set_value(idx, \"Number\", val)\n",
    "                break\n",
    "#another one to fill in missing numbers (but going forwards)\n",
    "for idx, num in voters.iloc[:, 4].items():\n",
    "    if num == \"\":\n",
    "        try:\n",
    "            pt = idx\n",
    "            while pt >= 0:\n",
    "                #finds the nearest filled cell that is after it\n",
    "                pt += 1\n",
    "                val = voters.iloc[pt, 4]\n",
    "                if val is not \"\" and voters.iloc[idx, 3] == voters.iloc[pt, 3]:\n",
    "                    voters.set_value(idx, \"Number\", val)\n",
    "                    break\n",
    "        except:\n",
    "            pass\n",
    "#clean up any misread numbers\n",
    "# for idx, number in voters.iloc[:, 4].items():\n",
    "#         #number smaller than the one before it and same street\n",
    "#         if float(number) < float(voters.iloc[idx-1, 4]) and (voters.iloc[idx-1, 3]) == (voters.iloc[idx, 3]):\n",
    "#             #similarity between surrounding numbers\n",
    "#             if fuzz.ratio(str(number), str(voters.iloc[idx-1, 4])) > fuzz.ratio(str(number), str(voters.iloc[idx+1, 4])):\n",
    "#                 voters.set_value(idx, \"Number\", voters.iloc[idx-1, 4])\n",
    "#             elif fuzz.ratio(str(number), str(voters.iloc[idx-1, 4])) < fuzz.ratio(str(number), str(voters.iloc[idx+1, 4])):\n",
    "#                 voters.set_value(idx, \"Number\", voters.iloc[idx+1, 4])\n",
    "#clean streets\n",
    "for idx, street in voters.iloc[:, 3].items():\n",
    "    if \".\" in street:\n",
    "        #get rid of the periods\n",
    "        removep = re.sub(\"[.]\", \"\", street)\n",
    "        #remove special characters\n",
    "        removesc = re.sub('[^a-zA-Z.,\\d\\s]', '', removep)\n",
    "        #remove leading space\n",
    "        newstreet = removesc.strip()\n",
    "        voters.set_value(idx, \"Street\", newstreet)"
   ]
  },
  {
   "cell_type": "code",
   "execution_count": null,
   "metadata": {
    "scrolled": true
   },
   "outputs": [],
   "source": [
    "#clean names\n",
    "for idx, name in voters.iloc[:, 5].items():\n",
    "    if \".\" in name:\n",
    "        #get rid of the periods\n",
    "        removep = re.sub(\"[.]\", \"\", name)\n",
    "        #remove special characters\n",
    "        removesc = re.sub('[^a-zA-Z.,\\d\\s]', '', removep)\n",
    "        #remove leading space\n",
    "        newname = removesc.strip()\n",
    "        voters.set_value(idx, \"Name\", newname)\n",
    "#remove end commas\n",
    "for idx, name in voters.iloc[:, 5].items():\n",
    "    if name[-1:] == \",\":\n",
    "        removec = name[:-1].strip()\n",
    "        #remove leading space\n",
    "        voters.set_value(idx, \"Name\", removec)"
   ]
  },
  {
   "cell_type": "code",
   "execution_count": null,
   "metadata": {},
   "outputs": [],
   "source": [
    "#lines with lone letters\n",
    "delete = []\n",
    "for idx, entry in voters.iloc[:, 5].items():\n",
    "    if len(entry)==1:\n",
    "        #most likely an initial\n",
    "        voters.set_value(idx-1, \"Name\", voters.iloc[idx-1, 5] + entry)\n",
    "        delete.append(idx)\n",
    "voters.drop(voters.index[delete], inplace=True)\n",
    "voters.reset_index(drop=True, inplace=True)"
   ]
  },
  {
   "cell_type": "code",
   "execution_count": null,
   "metadata": {},
   "outputs": [],
   "source": [
    "#lone suffixes\n",
    "drop = []\n",
    "for idx, entry in voters.iloc[:, 5].items():\n",
    "    if entry.strip() == \"Rev\" or entry == \"Gen\":\n",
    "        #most likely an initial\n",
    "        voters.set_value(idx-1, \"Name\", voters.iloc[idx-1, 5] + entry)\n",
    "        drop.append(idx)\n",
    "voters.drop(voters.index[drop], inplace=True)\n",
    "voters.reset_index(drop=True, inplace=True)"
   ]
  },
  {
   "cell_type": "code",
   "execution_count": null,
   "metadata": {},
   "outputs": [],
   "source": [
    "#isolate suffixes\n",
    "suffix = []\n",
    "for idx, name in voters.iloc[:, 5].items():\n",
    "    if name[-2:].strip() == \"Jr\" or name[-2:].strip() == \"Sr\" or name[-2:].strip() == \"jr\" or  name[-2:].strip() == \"sr\":\n",
    "        suffix.append(name[-2:].strip())\n",
    "        voters.set_value(idx, \"Name\", name[:-2])\n",
    "    elif name[-3:].strip() == \"Rev\" or name[-3:].strip== \"rev\":\n",
    "        suffix.append(name[-3:].strip())\n",
    "        voters.set_value(idx, \"Name\", name[:-3])\n",
    "    else:\n",
    "        suffix.append(\"\")\n",
    "voters[\"Suffix\"] = suffix"
   ]
  },
  {
   "cell_type": "code",
   "execution_count": null,
   "metadata": {},
   "outputs": [],
   "source": [
    "#middle initial\n",
    "minitial = []\n",
    "for idx, name in voters.iloc[:, 5].items():\n",
    "    mi = name[-1:]\n",
    "    if mi.isupper() and len(re.findall(r'\\w+', name)) == 3:\n",
    "        minitial.append(mi)\n",
    "        cleanname = name[:-1]\n",
    "        voters.set_value(idx, \"Name\", cleanname)\n",
    "    else:\n",
    "        minitial.append(\"\")\n",
    "        voters.set_value(idx, \"Name\", name)\n",
    "voters[\"Middle\"] = minitial\n",
    "#scrub commas at end\n",
    "for idx, name in voters.iloc[:, 5].items():\n",
    "    if name.strip()[-1:] == \",\":\n",
    "        voters.set_value(idx, \"Name\", name.strip()[:-1])"
   ]
  },
  {
   "cell_type": "code",
   "execution_count": null,
   "metadata": {
    "scrolled": true
   },
   "outputs": [],
   "source": [
    "#reindex\n",
    "voters.reset_index(drop=True, inplace=True)\n",
    "\n",
    "#scrub letters before first capital letter\n",
    "for idx, name in voters.iloc[:, 5].items():\n",
    "        voters.set_value(idx, \"Name\", re.sub(\"^.*?([A-Z])\", \"\\\\1\", name))"
   ]
  },
  {
   "cell_type": "code",
   "execution_count": null,
   "metadata": {
    "scrolled": true
   },
   "outputs": [],
   "source": [
    "#last name first name\n",
    "lname = []\n",
    "fname = []\n",
    "for idx, name in voters.iloc[:, 5].items():\n",
    "    #comma (x, y)\n",
    "    if bool(re.match(r\"(?x) ^ [\\w ']+ , [\\w ']+ $ \", name)):\n",
    "        #everything before comma = last, everything after= first\n",
    "        lname.append(name.split(',')[0].strip())\n",
    "        fname.append(name.split(',')[1].strip())\n",
    "    #comma at end (x, y y,)\n",
    "    elif bool(re.match(r\"(?x) ^ [\\w ']+ , [\\w ']+ ,$ \", name)):\n",
    "        lname.append(name.split(',')[0].strip())\n",
    "        fname.append(name.split(',')[1].strip())\n",
    "    #period (x.y)\n",
    "    elif bool(re.match(r\"(?x) ^ [\\w ']+ \\. [\\w ']+ $ \", name)):\n",
    "        lname.append(name.split('.')[0].strip())\n",
    "        fname.append(name.split('.')[1].strip())\n",
    "    #space (x y)\n",
    "    elif bool(re.match(r\"([A-Za-z']+)+ ([A-Z][A-Za-z']+)\", name)):\n",
    "        grouped = re.match(r\"([A-Za-z']+)+ ([A-Z][A-Za-z']+)\", name).groups()\n",
    "        lname.append(grouped[0].strip())\n",
    "        fname.append(grouped[1].strip())\n",
    "    #nospace (SmithJohn)\n",
    "    elif bool(re.match(r\"([A-Za-z']+)([A-Z][A-Za-z']+)\", name)):\n",
    "        full = re.match(r\"([A-Za-z']+)([A-Z][A-Za-z']+)\", name).groups()\n",
    "        lname.append(full[0])\n",
    "        fname.append(full[1])\n",
    "    else:\n",
    "        lname.append(\"\")\n",
    "        fname.append(\"\")\n",
    "#add lname fname to voters\n",
    "voters[\"Last\"] = lname\n",
    "voters[\"First\"] = fname"
   ]
  },
  {
   "cell_type": "code",
   "execution_count": null,
   "metadata": {},
   "outputs": [],
   "source": [
    "#try to fix names again:\n",
    "for idx, name in voters.iloc[:, 5].items():\n",
    "    if voters.iloc[idx, 6] == \"\" and voters.iloc[idx, 7] == \"\":\n",
    "        new = name.split(\",\")\n",
    "        newp = name.split(\".\")\n",
    "        if len(new) == 2:\n",
    "            voters.set_value(idx, \"Last\", new[0].strip())\n",
    "            voters.set_value(idx, \"First\", new[1].strip())\n",
    "        if len(newp) == 2:\n",
    "            voters.set_value(idx, \"Last\", newp[0].strip())\n",
    "            voters.set_value(idx, \"First\", newp[1].strip())\n",
    "# lone letters and suffixes"
   ]
  },
  {
   "cell_type": "code",
   "execution_count": null,
   "metadata": {},
   "outputs": [],
   "source": [
    "#drop rows with n/a name\n",
    "for idx, name in voters.iloc[:, 5].items():\n",
    "    if name == \"n/a\":\n",
    "        voters = voters.drop([idx])\n",
    "voters.reset_index(drop=True, inplace=True)"
   ]
  },
  {
   "cell_type": "code",
   "execution_count": null,
   "metadata": {},
   "outputs": [],
   "source": [
    "#scrub repeats and empty fname lname\n",
    "todelete = []\n",
    "for idx, name in voters.iloc[:, 5].items():\n",
    "    try:\n",
    "        if name == voters.iloc[idx-1, 5]:\n",
    "            todelete.append(idx)\n",
    "    except:\n",
    "        pass\n",
    "voters.drop(voters.index[todelete], inplace=True)\n",
    "voters.reset_index(drop=True, inplace=True)\n",
    "td = []\n",
    "for idx, name in voters.loc[:, \"Last\"].items():\n",
    "    if name == \"\" and voters.loc[idx, \"First\"] == \"\":\n",
    "        td.append(idx)\n",
    "voters.drop(voters.index[td], inplace=True)"
   ]
  },
  {
   "cell_type": "code",
   "execution_count": null,
   "metadata": {},
   "outputs": [],
   "source": [
    "voters.reset_index(drop=True, inplace=True)"
   ]
  },
  {
   "cell_type": "code",
   "execution_count": null,
   "metadata": {},
   "outputs": [],
   "source": [
    "voters.to_excel(\"1902.2.final.xlsx\")"
   ]
  },
  {
   "cell_type": "markdown",
   "metadata": {},
   "source": [
    "## 1902 part 3"
   ]
  },
  {
   "cell_type": "code",
   "execution_count": null,
   "metadata": {},
   "outputs": [],
   "source": [
    "#xlsx file\n",
    "rawdata = pd.read_excel(\"1902.3.xlsx\", header=None)"
   ]
  },
  {
   "cell_type": "code",
   "execution_count": null,
   "metadata": {},
   "outputs": [],
   "source": [
    "unwanted_words = [\"The City Record\", \"THE CITY RECORD\", \"OFFICIAL JOURNAL\", \"SUPPLEMENT\", \"LIST OF REGISTERED VOTERES\", \"BOROUGH OF\"]\n",
    "col_names = [\"Year\", \"AD\", \"ED\", \"Street\", \"Number\", \"Name\"]\n",
    "voters = pd.DataFrame(columns=col_names)"
   ]
  },
  {
   "cell_type": "code",
   "execution_count": null,
   "metadata": {},
   "outputs": [],
   "source": [
    "#replaces unwanted words as blank\n",
    "for idx, line in rawdata.iloc[:, 0].items():\n",
    "    for word in unwanted_words:\n",
    "        if fuzz.partial_ratio(line.strip(), word) >= 70:\n",
    "            rawdata.set_value(idx, 0, \"     \")\n",
    "        else:\n",
    "            pass\n",
    "#removes all space\n",
    "td = []\n",
    "for idx, line in rawdata.iloc[:, 0].items():\n",
    "    if line.isspace():\n",
    "        td.append(idx)\n",
    "\n",
    "rawdata.drop(rawdata.index[td], inplace=True)\n",
    "rawdata.reset_index(drop=True, inplace=True)"
   ]
  },
  {
   "cell_type": "code",
   "execution_count": null,
   "metadata": {},
   "outputs": [],
   "source": [
    "rawdata.reset_index(drop=True, inplace=True)"
   ]
  },
  {
   "cell_type": "code",
   "execution_count": null,
   "metadata": {},
   "outputs": [],
   "source": [
    "for idx, line in rawdata.iloc[:, 0].items():\n",
    "    #combine hyphenated lines\n",
    "    if ((line.strip()[-1:] == \"-\" or line.strip()[-1:] == \"--\")) and rawdata.iloc[idx+1, 0][0].islower():\n",
    "        newline = rawdata.iloc[idx, 0] + rawdata.iloc[idx+1, 0]\n",
    "        rawdata.set_value(idx, 0, newline)\n",
    "        rawdata.set_value(idx+1, 0, \"    \")\n",
    "#remove hyphens from names\n",
    "for idx, line in rawdata.iloc[:, 0].items():\n",
    "    if \"-\" in line:\n",
    "        rawdata.set_value(idx, 0, re.sub(\"-\", \"\", line))\n",
    "\n",
    "rawdata.reset_index(drop=True, inplace=True)"
   ]
  },
  {
   "cell_type": "code",
   "execution_count": null,
   "metadata": {},
   "outputs": [],
   "source": [
    "#removes all space\n",
    "tod = []\n",
    "for idx, line in rawdata.iloc[:, 0].items():\n",
    "    if line.isspace():\n",
    "        tod.append(idx)\n",
    "rawdata.drop(rawdata.index[tod], inplace=True)\n",
    "rawdata.reset_index(drop=True, inplace=True)"
   ]
  },
  {
   "cell_type": "code",
   "execution_count": null,
   "metadata": {
    "scrolled": false
   },
   "outputs": [],
   "source": [
    "#initialize values\n",
    "ad = \"n/a\"\n",
    "ed = \"n/a\"\n",
    "streetname = \"n/a\"\n",
    "year = 1902\n",
    "number = 0\n",
    "name = \"n/a\"\n",
    "lastname = \"n/a\"\n",
    "firstname = \"n/a\"\n",
    "idx = 0\n",
    "minitial = \"\"\n",
    "\n",
    "\n",
    "for line in rawdata.iloc[:, 0]:\n",
    "    if line.isspace()==False:\n",
    "        #all caps---either an ad, ed, maybe street/name\n",
    "        capscheck = \"\".join(x for x in line if x.isupper())\n",
    "        if len(capscheck) >=4: \n",
    "            if fuzz.partial_ratio(line, \"ASSEMBLY\") >= 70:\n",
    "                ad = line\n",
    "            elif fuzz.partial_ratio(line, \"ELECTION DIST.\") >= 75 or fuzz.partial_ratio(line, \"ELEC. DIST.\") >= 70 or fuzz.partial_ratio(line, \"ELECTION DISTRICT\") >= 75:\n",
    "                ed = line\n",
    "            else: \n",
    "                #maybe a street or name \n",
    "                lowercheck = \"\".join(x for x in line if x.islower())\n",
    "                if len(lowercheck) <= 3: \n",
    "                    streetname = line\n",
    "                else:\n",
    "                    entry = line\n",
    "                    number = \"\".join(x for x in entry if x.isdigit())\n",
    "                    name = ''.join(i for i in entry if not i.isdigit())\n",
    "        else:\n",
    "            #for sure a name\n",
    "            entry = line\n",
    "            number = \"\".join(x for x in entry if x.isdigit())\n",
    "            name = ''.join(i for i in entry if not i.isdigit())\n",
    "        #new row to dataframe\n",
    "        new_row = [year, ad, ed, streetname, number, name]\n",
    "        voters.loc[len(voters), :] = new_row\n",
    "    else:\n",
    "        pass"
   ]
  },
  {
   "cell_type": "code",
   "execution_count": null,
   "metadata": {
    "scrolled": true
   },
   "outputs": [],
   "source": [
    "#fill in empty number rows\n",
    "for idx, num in voters.iloc[:, 4].items():\n",
    "    if num == \"\":\n",
    "        point = idx\n",
    "        while point >= 0:\n",
    "            #finds the nearest filled cell that is before it\n",
    "            point -= 1\n",
    "            val = voters.iloc[point, 4]\n",
    "            if val is not \"\" and voters.iloc[idx, 3] == voters.iloc[point, 3]:\n",
    "                voters.set_value(idx, \"Number\", val)\n",
    "                break\n",
    "#another one to fill in missing numbers (but going forwards)\n",
    "for idx, num in voters.iloc[:, 4].items():\n",
    "    if num == \"\":\n",
    "        try:\n",
    "            pt = idx\n",
    "            while pt >= 0:\n",
    "                #finds the nearest filled cell that is after it\n",
    "                pt += 1\n",
    "                val = voters.iloc[pt, 4]\n",
    "                if val is not \"\" and voters.iloc[idx, 3] == voters.iloc[pt, 3]:\n",
    "                    voters.set_value(idx, \"Number\", val)\n",
    "                    break\n",
    "        except:\n",
    "            pass\n",
    "#clean up any misread numbers\n",
    "# for idx, number in voters.iloc[:, 4].items():\n",
    "#         #number smaller than the one before it and same street\n",
    "#         if float(number) < float(voters.iloc[idx-1, 4]) and (voters.iloc[idx-1, 3]) == (voters.iloc[idx, 3]):\n",
    "#             #similarity between surrounding numbers\n",
    "#             if fuzz.ratio(str(number), str(voters.iloc[idx-1, 4])) > fuzz.ratio(str(number), str(voters.iloc[idx+1, 4])):\n",
    "#                 voters.set_value(idx, \"Number\", voters.iloc[idx-1, 4])\n",
    "#             elif fuzz.ratio(str(number), str(voters.iloc[idx-1, 4])) < fuzz.ratio(str(number), str(voters.iloc[idx+1, 4])):\n",
    "#                 voters.set_value(idx, \"Number\", voters.iloc[idx+1, 4])\n",
    "#clean streets\n",
    "for idx, street in voters.iloc[:, 3].items():\n",
    "    if \".\" in street:\n",
    "        #get rid of the periods\n",
    "        removep = re.sub(\"[.]\", \"\", street)\n",
    "        #remove special characters\n",
    "        removesc = re.sub('[^a-zA-Z.,\\d\\s]', '', removep)\n",
    "        #remove leading space\n",
    "        newstreet = removesc.strip()\n",
    "        voters.set_value(idx, \"Street\", newstreet)"
   ]
  },
  {
   "cell_type": "code",
   "execution_count": null,
   "metadata": {
    "scrolled": true
   },
   "outputs": [],
   "source": [
    "#clean names\n",
    "for idx, name in voters.iloc[:, 5].items():\n",
    "    if \".\" in name:\n",
    "        #get rid of the periods\n",
    "        removep = re.sub(\"[.]\", \"\", name)\n",
    "        #remove special characters\n",
    "        removesc = re.sub('[^a-zA-Z.,\\d\\s]', '', removep)\n",
    "        #remove leading space\n",
    "        newname = removesc.strip()\n",
    "        voters.set_value(idx, \"Name\", newname)\n",
    "#remove end commas\n",
    "for idx, name in voters.iloc[:, 5].items():\n",
    "    if name[-1:] == \",\":\n",
    "        removec = name[:-1].strip()\n",
    "        #remove leading space\n",
    "        voters.set_value(idx, \"Name\", removec)"
   ]
  },
  {
   "cell_type": "code",
   "execution_count": null,
   "metadata": {},
   "outputs": [],
   "source": [
    "#lines with lone letters\n",
    "delete = []\n",
    "for idx, entry in voters.iloc[:, 5].items():\n",
    "    if len(entry)==1:\n",
    "        #most likely an initial\n",
    "        voters.set_value(idx-1, \"Name\", voters.iloc[idx-1, 5] + entry)\n",
    "        delete.append(idx)\n",
    "voters.drop(voters.index[delete], inplace=True)\n",
    "voters.reset_index(drop=True, inplace=True)"
   ]
  },
  {
   "cell_type": "code",
   "execution_count": null,
   "metadata": {},
   "outputs": [],
   "source": [
    "#lone suffixes\n",
    "drop = []\n",
    "for idx, entry in voters.iloc[:, 5].items():\n",
    "    if entry.strip() == \"Rev\" or entry == \"Gen\":\n",
    "        #most likely an initial\n",
    "        voters.set_value(idx-1, \"Name\", voters.iloc[idx-1, 5] + entry)\n",
    "        drop.append(idx)\n",
    "voters.drop(voters.index[drop], inplace=True)\n",
    "voters.reset_index(drop=True, inplace=True)"
   ]
  },
  {
   "cell_type": "code",
   "execution_count": null,
   "metadata": {},
   "outputs": [],
   "source": [
    "#isolate suffixes\n",
    "suffix = []\n",
    "for idx, name in voters.iloc[:, 5].items():\n",
    "    if name[-2:].strip() == \"Jr\" or name[-2:].strip() == \"Sr\" or name[-2:].strip() == \"jr\" or  name[-2:].strip() == \"sr\":\n",
    "        suffix.append(name[-2:].strip())\n",
    "        voters.set_value(idx, \"Name\", name[:-2])\n",
    "    elif name[-3:].strip() == \"Rev\" or name[-3:].strip== \"rev\":\n",
    "        suffix.append(name[-3:].strip())\n",
    "        voters.set_value(idx, \"Name\", name[:-3])\n",
    "    else:\n",
    "        suffix.append(\"\")\n",
    "voters[\"Suffix\"] = suffix"
   ]
  },
  {
   "cell_type": "code",
   "execution_count": null,
   "metadata": {},
   "outputs": [],
   "source": [
    "#middle initial\n",
    "minitial = []\n",
    "for idx, name in voters.iloc[:, 5].items():\n",
    "    mi = name[-1:]\n",
    "    if mi.isupper() and len(re.findall(r'\\w+', name)) == 3:\n",
    "        minitial.append(mi)\n",
    "        cleanname = name[:-1]\n",
    "        voters.set_value(idx, \"Name\", cleanname)\n",
    "    else:\n",
    "        minitial.append(\"\")\n",
    "        voters.set_value(idx, \"Name\", name)\n",
    "voters[\"Middle\"] = minitial\n",
    "#scrub commas at end\n",
    "for idx, name in voters.iloc[:, 5].items():\n",
    "    if name.strip()[-1:] == \",\":\n",
    "        voters.set_value(idx, \"Name\", name.strip()[:-1])"
   ]
  },
  {
   "cell_type": "code",
   "execution_count": null,
   "metadata": {
    "scrolled": true
   },
   "outputs": [],
   "source": [
    "#reindex\n",
    "voters.reset_index(drop=True, inplace=True)\n",
    "\n",
    "#scrub letters before first capital letter\n",
    "for idx, name in voters.iloc[:, 5].items():\n",
    "        voters.set_value(idx, \"Name\", re.sub(\"^.*?([A-Z])\", \"\\\\1\", name))"
   ]
  },
  {
   "cell_type": "code",
   "execution_count": null,
   "metadata": {
    "scrolled": true
   },
   "outputs": [],
   "source": [
    "#last name first name\n",
    "lname = []\n",
    "fname = []\n",
    "for idx, name in voters.iloc[:, 5].items():\n",
    "    #comma (x, y)\n",
    "    if bool(re.match(r\"(?x) ^ [\\w ']+ , [\\w ']+ $ \", name)):\n",
    "        #everything before comma = last, everything after= first\n",
    "        lname.append(name.split(',')[0].strip())\n",
    "        fname.append(name.split(',')[1].strip())\n",
    "    #comma at end (x, y y,)\n",
    "    elif bool(re.match(r\"(?x) ^ [\\w ']+ , [\\w ']+ ,$ \", name)):\n",
    "        lname.append(name.split(',')[0].strip())\n",
    "        fname.append(name.split(',')[1].strip())\n",
    "    #period (x.y)\n",
    "    elif bool(re.match(r\"(?x) ^ [\\w ']+ \\. [\\w ']+ $ \", name)):\n",
    "        lname.append(name.split('.')[0].strip())\n",
    "        fname.append(name.split('.')[1].strip())\n",
    "    #space (x y)\n",
    "    elif bool(re.match(r\"([A-Za-z']+)+ ([A-Z][A-Za-z']+)\", name)):\n",
    "        grouped = re.match(r\"([A-Za-z']+)+ ([A-Z][A-Za-z']+)\", name).groups()\n",
    "        lname.append(grouped[0].strip())\n",
    "        fname.append(grouped[1].strip())\n",
    "    #nospace (SmithJohn)\n",
    "    elif bool(re.match(r\"([A-Za-z']+)([A-Z][A-Za-z']+)\", name)):\n",
    "        full = re.match(r\"([A-Za-z']+)([A-Z][A-Za-z']+)\", name).groups()\n",
    "        lname.append(full[0])\n",
    "        fname.append(full[1])\n",
    "    else:\n",
    "        lname.append(\"\")\n",
    "        fname.append(\"\")\n",
    "#add lname fname to voters\n",
    "voters[\"Last\"] = lname\n",
    "voters[\"First\"] = fname"
   ]
  },
  {
   "cell_type": "code",
   "execution_count": null,
   "metadata": {},
   "outputs": [],
   "source": [
    "#try to fix names again:\n",
    "for idx, name in voters.iloc[:, 5].items():\n",
    "    if voters.iloc[idx, 6] == \"\" and voters.iloc[idx, 7] == \"\":\n",
    "        new = name.split(\",\")\n",
    "        newp = name.split(\".\")\n",
    "        if len(new) == 2:\n",
    "            voters.set_value(idx, \"Last\", new[0].strip())\n",
    "            voters.set_value(idx, \"First\", new[1].strip())\n",
    "        if len(newp) == 2:\n",
    "            voters.set_value(idx, \"Last\", newp[0].strip())\n",
    "            voters.set_value(idx, \"First\", newp[1].strip())\n",
    "# lone letters and suffixes"
   ]
  },
  {
   "cell_type": "code",
   "execution_count": null,
   "metadata": {},
   "outputs": [],
   "source": [
    "#drop rows with n/a name\n",
    "for idx, name in voters.iloc[:, 5].items():\n",
    "    if name == \"n/a\":\n",
    "        voters = voters.drop([idx])\n",
    "voters.reset_index(drop=True, inplace=True)"
   ]
  },
  {
   "cell_type": "code",
   "execution_count": null,
   "metadata": {},
   "outputs": [],
   "source": [
    "#scrub repeats and empty fname lname\n",
    "todelete = []\n",
    "for idx, name in voters.iloc[:, 5].items():\n",
    "    try:\n",
    "        if name == voters.iloc[idx-1, 5]:\n",
    "            todelete.append(idx)\n",
    "    except:\n",
    "        pass\n",
    "voters.drop(voters.index[todelete], inplace=True)\n",
    "voters.reset_index(drop=True, inplace=True)\n",
    "td = []\n",
    "for idx, name in voters.loc[:, \"Last\"].items():\n",
    "    if name == \"\" and voters.loc[idx, \"First\"] == \"\":\n",
    "        td.append(idx)\n",
    "voters.drop(voters.index[td], inplace=True)"
   ]
  },
  {
   "cell_type": "code",
   "execution_count": null,
   "metadata": {},
   "outputs": [],
   "source": [
    "voters.reset_index(drop=True, inplace=True)"
   ]
  },
  {
   "cell_type": "code",
   "execution_count": null,
   "metadata": {},
   "outputs": [],
   "source": [
    "voters.to_excel(\"1902.3.final.xlsx\")"
   ]
  },
  {
   "cell_type": "markdown",
   "metadata": {},
   "source": [
    "before running this code: use 1902finalmerger.r to merge all 1902.x.final.xlsx sheets together into 1902merged_manhattan.xlsx\n",
    "\n",
    "make a copy: 1902_mergedmanhattanv2.xlsx to fix major errors with ED and AD\n",
    "\n",
    "code below outputs file named processed1902manhattan.xlsx\n",
    "## run on combined file"
   ]
  },
  {
   "cell_type": "code",
   "execution_count": null,
   "metadata": {},
   "outputs": [],
   "source": [
    "voters = pd.read_excel(\"1902merged_manhattanv2.xlsx\")"
   ]
  },
  {
   "cell_type": "code",
   "execution_count": null,
   "metadata": {},
   "outputs": [],
   "source": [
    "voters = voters.drop(voters.columns[[0]], axis=1)\n",
    "voters.reset_index(drop=True, inplace=True)"
   ]
  },
  {
   "cell_type": "code",
   "execution_count": null,
   "metadata": {},
   "outputs": [],
   "source": [
    "#change all NaN's to \"\"\n",
    "voters = voters.fillna(\"\")"
   ]
  },
  {
   "cell_type": "code",
   "execution_count": null,
   "metadata": {},
   "outputs": [],
   "source": [
    "#fixing ED/AD\n",
    "\n",
    "ad = 1\n",
    "ed = 1\n",
    "clean_ad = []\n",
    "for idx, assembly in voters.iloc[:, 1].items():\n",
    "    if idx == 0:\n",
    "        clean_ad.append(ad)\n",
    "    else:\n",
    "        if assembly.upper().strip() == voters.iloc[idx-1, 1].upper().strip():\n",
    "            clean_ad.append(ad)\n",
    "        elif assembly.upper().strip() != voters.iloc[idx-1, 1].upper().strip():\n",
    "            ad += 1\n",
    "            clean_ad.append(ad)\n",
    "clean_ed = []\n",
    "for idx, election in voters.iloc[:, 2].items():\n",
    "    if idx == 0:\n",
    "        clean_ed.append(ed)\n",
    "    else:\n",
    "        if voters.iloc[idx, 1].upper().strip() != voters.iloc[idx-1, 1].upper().strip():\n",
    "            #reset ed counter\n",
    "            ed = 0\n",
    "        if election.upper().strip() == voters.iloc[idx-1, 2].upper().strip():\n",
    "            clean_ed.append(ed)\n",
    "        elif election.upper().strip() != voters.iloc[idx-1, 2].upper().strip():\n",
    "            ed += 1\n",
    "            clean_ed.append(ed)\n",
    "#add to df\n",
    "voters[\"ADedit\"] = clean_ad\n",
    "voters[\"EDedit\"] = clean_ed"
   ]
  },
  {
   "cell_type": "code",
   "execution_count": null,
   "metadata": {
    "scrolled": false
   },
   "outputs": [],
   "source": [
    "voters"
   ]
  },
  {
   "cell_type": "code",
   "execution_count": null,
   "metadata": {},
   "outputs": [],
   "source": [
    "#rearrange columns \n",
    "finalvoters = voters[['Year', 'AD', 'ED', 'ADedit', \"EDedit\", \"Street\", \"Number\", \"Name\", \"Last\", \"First\", \"Middle\", \"Suffix\"]]"
   ]
  },
  {
   "cell_type": "code",
   "execution_count": null,
   "metadata": {},
   "outputs": [],
   "source": [
    "#output name\n",
    "finalvoters.to_excel(\"processed1902manhattan.xlsx\")"
   ]
  },
  {
   "cell_type": "code",
   "execution_count": 15,
   "metadata": {},
   "outputs": [],
   "source": [
    "# load final1902manhattan in\n",
    "full_list = pd.read_excel(\"processed1902manhattan.xlsx\")"
   ]
  },
  {
   "cell_type": "code",
   "execution_count": 16,
   "metadata": {},
   "outputs": [
    {
     "data": {
      "text/plain": [
       "ADedit\n",
       "1      4457\n",
       "2      6911\n",
       "3      7374\n",
       "4      6738\n",
       "5      7988\n",
       "6      8449\n",
       "7      7780\n",
       "8      5008\n",
       "9      8654\n",
       "10     7356\n",
       "11     7083\n",
       "12     5669\n",
       "13     6278\n",
       "14     7524\n",
       "15     7662\n",
       "16     7325\n",
       "17     7040\n",
       "18     8602\n",
       "19    11515\n",
       "20     8330\n",
       "21    17860\n",
       "22     8110\n",
       "23    17362\n",
       "24     7513\n",
       "25     7055\n",
       "26     6855\n",
       "27     6323\n",
       "28     7912\n",
       "29     9644\n",
       "30     9963\n",
       "31    18055\n",
       "32    10907\n",
       "33     8313\n",
       "34     7024\n",
       "dtype: int64"
      ]
     },
     "execution_count": 16,
     "metadata": {},
     "output_type": "execute_result"
    }
   ],
   "source": [
    "#stats\n",
    "full_list.groupby('ADedit').size()"
   ]
  },
  {
   "cell_type": "code",
   "execution_count": 19,
   "metadata": {},
   "outputs": [
    {
     "data": {
      "text/plain": [
       "EDedit\n",
       "0         2\n",
       "1     12290\n",
       "2     12023\n",
       "3     12008\n",
       "4     11224\n",
       "5     12370\n",
       "6     12619\n",
       "7     11756\n",
       "8     11711\n",
       "9     11389\n",
       "10    11644\n",
       "11    12120\n",
       "12    10849\n",
       "13    11913\n",
       "14    12712\n",
       "15    12145\n",
       "16    11749\n",
       "17    10729\n",
       "18    12508\n",
       "19    10292\n",
       "20     9992\n",
       "21     7949\n",
       "22     7566\n",
       "23     6408\n",
       "24     4019\n",
       "25     3619\n",
       "26     3030\n",
       "27     2145\n",
       "28     2179\n",
       "29     1736\n",
       "30     1853\n",
       "31     1550\n",
       "32     1719\n",
       "33     1424\n",
       "34      994\n",
       "35     1297\n",
       "36     1506\n",
       "37     1029\n",
       "38     1040\n",
       "39     1245\n",
       "40     1074\n",
       "41      755\n",
       "42      757\n",
       "43      853\n",
       "44      511\n",
       "45      336\n",
       "dtype: int64"
      ]
     },
     "execution_count": 19,
     "metadata": {},
     "output_type": "execute_result"
    }
   ],
   "source": [
    "full_list.groupby(\"EDedit\").size()"
   ]
  },
  {
   "cell_type": "code",
   "execution_count": null,
   "metadata": {},
   "outputs": [],
   "source": [
    "full_list.groupby(\"Street\").size()"
   ]
  }
 ],
 "metadata": {
  "kernelspec": {
   "display_name": "Python 3",
   "language": "python",
   "name": "python3"
  },
  "language_info": {
   "codemirror_mode": {
    "name": "ipython",
    "version": 3
   },
   "file_extension": ".py",
   "mimetype": "text/x-python",
   "name": "python",
   "nbconvert_exporter": "python",
   "pygments_lexer": "ipython3",
   "version": "3.7.1"
  }
 },
 "nbformat": 4,
 "nbformat_minor": 4
}
